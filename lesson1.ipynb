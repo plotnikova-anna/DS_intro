{
 "cells": [
  {
   "cell_type": "markdown",
   "id": "f35ca0f7",
   "metadata": {},
   "source": [
    "# Занятие 1: Введение в Python"
   ]
  },
  {
   "cell_type": "markdown",
   "id": "66e55323",
   "metadata": {},
   "source": [
    "\n",
    "Добро пожаловать на первое занятие!  \n",
    "Сегодня мы познакомимся с основами Python, напишем нашу первую программу и создадим несколько мини-проектов.\n",
    "\n",
    "Темы занятия:\n",
    "- Переменные и типы данных\n",
    "- Ввод и вывод информации\n",
    "- Списки\n",
    "- Условия (`if`)\n",
    "- Циклы (`for`, `while`)\n",
    "- Мини-проекты: калькулятор, таблица умножения, список покупок\n"
   ]
  },
  {
   "cell_type": "markdown",
   "id": "abbfb496",
   "metadata": {},
   "source": [
    "## **Python** — это высокоуровневый язык программирования, отличающийся эффективностью, простотой и универсальностью использования.\n",
    "\n",
    "Python широко используется в веб-разработке, машинном обучении (ML) и искусственном интеллекте (AI), анализе данных, системном администрировании, автоматизации, разработке игр и создании программных приложений. Его простота и универсальность делают его популярным для решения широкого круга задач в различных отраслях, включая крупные компании, такие как Google, Facebook, Netflix и Яндекс.\n",
    "\n",
    "## **Основные области применения:**\n",
    "\n",
    "**Веб-разработка:**\n",
    "\n",
    "Создание веб-сайтов, серверных приложений и фреймворков для разработки web-сервисов.\n",
    "\n",
    "**Анализ данных и научные вычисления:**\n",
    "\n",
    "Используется благодаря мощным библиотекам (NumPy, Pandas) для обработки, анализа и визуализации данных.\n",
    "\n",
    "**Машинное обучение и искусственный интеллект:**\n",
    "\n",
    "Основной язык для создания алгоритмов машинного обучения, нейросетей и аналитических приложений.\n",
    "\n",
    "**Системное администрирование и автоматизация:**\n",
    "\n",
    "Написание скриптов для автоматизации рутинных задач и управления системами.\n",
    "\n",
    "**Разработка игр:**\n",
    "\n",
    "Применяется как скриптовый язык в разработке игр, включая создание встроенных систем и игровых платформ.\n",
    "\n",
    "**Разработка программных приложений:**\n",
    "\n",
    "Создание настольных и мобильных приложений, а также встроенных систем управления, например, для банкоматов.\n",
    "\n",
    "**Тестирование:**\n",
    "\n",
    "Используется для автоматизации процессов тестирования программного обеспечения.\n",
    "\n",
    "### **Почему Python популярен:**\n",
    "\n",
    "**Простота и читаемость:**\n",
    "\n",
    "Интуитивно понятный синтаксис делает его легким для изучения и эффективным в использовании.\n",
    "\n",
    "**Гибкость и универсальность:**\n",
    "\n",
    "Позволяет решать задачи в самых разных областях.\n",
    "\n",
    "**Большая экосистема:**\n",
    "\n",
    "Наличие множества библиотек и фреймворков (например, Django и Flask для веба, NumPy и Pandas для данных) ускоряет разработку.\n",
    "\n",
    "**Кроссплатформенность:**\n",
    "\n",
    "Программы на Python могут работать на разных операционных системах."
   ]
  },
  {
   "cell_type": "markdown",
   "id": "c9cdb496",
   "metadata": {},
   "source": [
    "## Print"
   ]
  },
  {
   "cell_type": "code",
   "execution_count": null,
   "id": "09dc6353",
   "metadata": {},
   "outputs": [
    {
     "name": "stdout",
     "output_type": "stream",
     "text": [
      "Hello World\n"
     ]
    }
   ],
   "source": [
    "print('Hello World')"
   ]
  },
  {
   "cell_type": "markdown",
   "id": "c4d4215f",
   "metadata": {},
   "source": [
    "## Input"
   ]
  },
  {
   "cell_type": "code",
   "execution_count": null,
   "id": "884ad6e6",
   "metadata": {},
   "outputs": [
    {
     "name": "stdout",
     "output_type": "stream",
     "text": [
      "Привет, Alice\n"
     ]
    }
   ],
   "source": [
    "name = input(\"Как тебя зовут? \")\n",
    "print(\"Привет,\", name)"
   ]
  },
  {
   "cell_type": "markdown",
   "id": "b3eff302",
   "metadata": {},
   "source": [
    "## Переменные"
   ]
  },
  {
   "cell_type": "markdown",
   "id": "18ed84cf",
   "metadata": {},
   "source": [
    "`snake_case` - имена переменных, функций, методы модулей\n",
    "\n",
    "`CamelCase` - имена классов\n",
    "\n",
    "`yet-another-package` - названия пакетов\n",
    "\n",
    "`CONSTANT` - константы"
   ]
  },
  {
   "cell_type": "code",
   "execution_count": null,
   "id": "f1034426",
   "metadata": {},
   "outputs": [
    {
     "name": "stdout",
     "output_type": "stream",
     "text": [
      "1\n",
      "Alice\n",
      "<class 'int'>\n",
      "<class 'str'>\n"
     ]
    }
   ],
   "source": [
    "x = 1\n",
    "name = 'Alice'\n",
    "\n",
    "print(x)\n",
    "print(name)\n",
    "print(type(x))\n",
    "print(type(name))"
   ]
  },
  {
   "cell_type": "code",
   "execution_count": null,
   "id": "5d047454",
   "metadata": {},
   "outputs": [
    {
     "name": "stdout",
     "output_type": "stream",
     "text": [
      "Имя: Иван\n",
      "Возраст: 16\n",
      "Студент? True\n",
      "Иван 16 True\n"
     ]
    }
   ],
   "source": [
    "age = 16\n",
    "name = \"Иван\"\n",
    "is_student = True\n",
    "\n",
    "print(\"Имя:\", name)\n",
    "print(\"Возраст:\", age)\n",
    "print(\"Студент?\", is_student)\n",
    "print(name + \" \" + str(age) + \" \" + str(is_student))"
   ]
  },
  {
   "cell_type": "markdown",
   "id": "8e6c6e5d",
   "metadata": {},
   "source": [
    "## Типы данных"
   ]
  },
  {
   "cell_type": "markdown",
   "id": "5e2ad304",
   "metadata": {},
   "source": [
    "- `int` — целые числа (1, 0, -5).\n",
    "- `float` — числа с плавающей точкой (3.14).\n",
    "- `str` — строки: \"привет\".\n",
    "- `bool` — логические True / False.\n",
    "- `list` — упорядоченный изменяемый список.\n",
    "- `tuple` — неизменяемый кортеж.\n",
    "- `dict` — пары ключ: значение.\n",
    "- `set` — уникальные элементы.\n"
   ]
  },
  {
   "cell_type": "markdown",
   "id": "ac0813f5",
   "metadata": {},
   "source": [
    " Числовые типы данных\n",
    "\n",
    "   — `int` (integer) — целые числа."
   ]
  },
  {
   "cell_type": "code",
   "execution_count": 1,
   "id": "a1459e08",
   "metadata": {},
   "outputs": [],
   "source": [
    "age = 25\n",
    "\n",
    "count = 100"
   ]
  },
  {
   "cell_type": "markdown",
   "id": "a2a2b2a0",
   "metadata": {},
   "source": [
    "   — `float` (floating-point) — числа с плавающей точкой."
   ]
  },
  {
   "cell_type": "code",
   "execution_count": null,
   "id": "e85e4417",
   "metadata": {},
   "outputs": [],
   "source": [
    "pi = 3.14\n",
    "\n",
    "temperature = 36.6"
   ]
  },
  {
   "cell_type": "markdown",
   "id": "3ff530da",
   "metadata": {},
   "source": [
    "Строковый тип данных\n",
    "\n",
    "   — `str` (string) — последовательность символов, заключенных в кавычки."
   ]
  },
  {
   "cell_type": "code",
   "execution_count": null,
   "id": "57b5793e",
   "metadata": {},
   "outputs": [],
   "source": [
    "name = \"Alice\"\n",
    "\n",
    "message = 'Привет, мир!'"
   ]
  },
  {
   "cell_type": "markdown",
   "id": "7972a5d4",
   "metadata": {},
   "source": [
    "Логический тип данных\n",
    "\n",
    "   — `bool` (boolean) — логические значения `True` (истина) и `False` (ложь)."
   ]
  },
  {
   "cell_type": "code",
   "execution_count": null,
   "id": "93a4a4a4",
   "metadata": {},
   "outputs": [],
   "source": [
    "is_student = True\n",
    "\n",
    "is_adult = False"
   ]
  },
  {
   "cell_type": "markdown",
   "id": "fd883d8e",
   "metadata": {},
   "source": [
    "Списки\n",
    "\n",
    "   — `list` — упорядоченная изменяемая коллекция элементов, которые могут быть разных типов."
   ]
  },
  {
   "cell_type": "code",
   "execution_count": 3,
   "id": "9aa3ef2d",
   "metadata": {},
   "outputs": [],
   "source": [
    "numbers = [1, 2, 3, 4, 5]\n",
    "\n",
    "fruits = ['яблоко', 'банан', 'груша']"
   ]
  },
  {
   "cell_type": "markdown",
   "id": "6a2c85ce",
   "metadata": {},
   "source": [
    "Кортежи\n",
    "\n",
    "   — `tuple` — упорядоченная неизменяемая коллекция элементов, которые могут быть разных типов."
   ]
  },
  {
   "cell_type": "code",
   "execution_count": null,
   "id": "0b852e2a",
   "metadata": {},
   "outputs": [],
   "source": [
    "coordinates = (10, 20)\n",
    "\n",
    "rgb_color = (255, 0, 0)"
   ]
  },
  {
   "cell_type": "markdown",
   "id": "3b0bca87",
   "metadata": {},
   "source": [
    "Словари\n",
    "\n",
    "   — `dict` (dictionary) — неупорядоченная коллекция пар ключ-значение, позволяющая быстро находить значение по ключу."
   ]
  },
  {
   "cell_type": "code",
   "execution_count": null,
   "id": "8eb9dab5",
   "metadata": {},
   "outputs": [],
   "source": [
    "person = {'name': 'Alice', 'age': 30}\n",
    "\n",
    "grades = {'math': 90, 'english': 85, 'history': 92}"
   ]
  },
  {
   "cell_type": "markdown",
   "id": "920bab4c",
   "metadata": {},
   "source": [
    "Множества\n",
    "\n",
    "   — `set` — неупорядоченная коллекция уникальных элементов."
   ]
  },
  {
   "cell_type": "code",
   "execution_count": 4,
   "id": "52f23e9c",
   "metadata": {},
   "outputs": [],
   "source": [
    "colors = {'red', 'green', 'blue'}\n",
    "\n",
    "fruits_set = set(['яблоко', 'банан', 'груша'])"
   ]
  },
  {
   "cell_type": "markdown",
   "id": "b7906246",
   "metadata": {},
   "source": [
    "### Примеры"
   ]
  },
  {
   "cell_type": "code",
   "execution_count": 2,
   "id": "1c0fb397",
   "metadata": {},
   "outputs": [
    {
     "name": "stdout",
     "output_type": "stream",
     "text": [
      "<class 'int'> <class 'float'> <class 'str'> <class 'bool'>\n",
      "яблоко 20 Аня {1, 2, 3}\n"
     ]
    }
   ],
   "source": [
    "x = 10           # int\n",
    "pi = 3.14        # float\n",
    "name = \"Иван\"    # str\n",
    "is_student = True  # bool\n",
    "fruits = [\"яблоко\", \"банан\"]  # list\n",
    "coord = (10, 20)  # tuple\n",
    "person = {\"name\": \"Аня\", \"age\": 15}  # dict\n",
    "unique = set([1,2,2,3])  # set\n",
    "\n",
    "print(type(x), type(pi), type(name), type(is_student))\n",
    "print(fruits[0], coord[1], person[\"name\"], unique)"
   ]
  },
  {
   "cell_type": "markdown",
   "id": "32b74e82",
   "metadata": {},
   "source": [
    "## Что чаще всего вызывает ошибки и как их решать\n",
    "\n",
    "- `TypeError` — обычно из-за неправильного типа данных (например, пытаться сложить строку и число).\n",
    "- `ZeroDivisionError` — деление на ноль.\n",
    "- `IndexError` — обращение к несуществующему элементу списка.\n",
    "- `ValueError` — неверный формат при конвертации (int(\"abc\")).\n",
    "\n",
    "Всегда читайте текст ошибки — он указывает строку и причину. Попробуйте править тот фрагмент, который упомянут в traceback.\n"
   ]
  },
  {
   "cell_type": "code",
   "execution_count": null,
   "id": "5a25c545",
   "metadata": {},
   "outputs": [
    {
     "name": "stdout",
     "output_type": "stream",
     "text": [
      "Ошибка: can only concatenate str (not \"int\") to str\n",
      "Ошибка: division by zero\n",
      "Ошибка: list index out of range\n",
      "Ошибка: invalid literal for int() with base 10: 'abc'\n"
     ]
    }
   ],
   "source": [
    "# TypeError\n",
    "try:\n",
    "    print(\"age: \" + 5)  # попытка сложить str + int\n",
    "except Exception as e:\n",
    "    print(\"Ошибка:\", e)\n",
    "\n",
    "# ZeroDivisionError\n",
    "try:\n",
    "    print(10 / 0)\n",
    "except Exception as e:\n",
    "    print(\"Ошибка:\", e)\n",
    "\n",
    "# IndexError\n",
    "try:\n",
    "    a = [1,2,3]\n",
    "    print(a[5])\n",
    "except Exception as e:\n",
    "    print(\"Ошибка:\", e)\n",
    "\n",
    "# ValueError\n",
    "try:\n",
    "    int(\"abc\")\n",
    "except Exception as e:\n",
    "    print(\"Ошибка:\", e)\n"
   ]
  },
  {
   "cell_type": "markdown",
   "id": "75a2a451",
   "metadata": {},
   "source": [
    "## Операции с числами"
   ]
  },
  {
   "cell_type": "code",
   "execution_count": 1,
   "id": "1e40fe2d",
   "metadata": {},
   "outputs": [
    {
     "name": "stdout",
     "output_type": "stream",
     "text": [
      "Сумма: 7\n",
      "Разность: 3\n",
      "Произведение: 10\n",
      "Частное: 2.5\n",
      "Возведение в степень: 25\n",
      "Целочисленное деление: 2\n",
      "Остаток от деления: 1\n"
     ]
    }
   ],
   "source": [
    "a = 5\n",
    "b = 2\n",
    "\n",
    "print(\"Сумма:\", a + b)\n",
    "print(\"Разность:\", a - b)\n",
    "print(\"Произведение:\", a * b)\n",
    "print(\"Частное:\", a / b)\n",
    "print(\"Возведение в степень:\", a ** 2)\n",
    "print(\"Целочисленное деление:\", a // b)\n",
    "print(\"Остаток от деления:\", a % b)"
   ]
  },
  {
   "cell_type": "markdown",
   "id": "59876eba",
   "metadata": {},
   "source": [
    "## Мини-проект 1: Калькулятор"
   ]
  },
  {
   "cell_type": "code",
   "execution_count": 1,
   "id": "ab46c664",
   "metadata": {},
   "outputs": [
    {
     "name": "stdout",
     "output_type": "stream",
     "text": [
      "Сумма: 5.0 + 0.0 = 5.0\n",
      "Разность: 5.0 - 0.0 = 5.0\n",
      "Умножение: 5.0 * 0.0 = 0.0\n",
      "Возведение в степень: 5.0 ^ 0.0 = 1.0\n",
      "Деление: 5.0 / 0.0 = Error! Делить на ноль нельзя!\n",
      "Целочисленное деление: 5.0 // 0.0 = Error! Делить на ноль нельзя!\n",
      "Остаток от деления: 5.0 % 0.0 = Error! Делить на ноль нельзя!\n"
     ]
    }
   ],
   "source": [
    "a = float(input(\"Введите первое число: \"))\n",
    "b = float(input(\"Введите второе число: \"))\n",
    "\n",
    "print(f\"Сумма: {a} + {b} = {a+b}\")\n",
    "print(f\"Разность: {a} - {b} = {a-b}\")\n",
    "print(f\"Умножение: {a} * {b} = {a*b}\")\n",
    "print(f\"Возведение в степень: {a} ^ {b} = {a**b}\")\n",
    "\n",
    "if b != 0:\n",
    "    print(f\"Деление: {a} / {b} = {a/b}\")\n",
    "else:\n",
    "    print(f\"Деление: {a} / {b} = Error!\", \"Делить на ноль нельзя!\")\n",
    "\n",
    "if b != 0:\n",
    "    print(f\"Целочисленное деление: {a} // {b} = {a//b}\")\n",
    "else:\n",
    "    print(f\"Целочисленное деление: {a} // {b} = Error!\", \"Делить на ноль нельзя!\")\n",
    "\n",
    "if b != 0:\n",
    "    print(f\"Остаток от деления: {a} % {b} = {a%b}\")\n",
    "else:\n",
    "    print(f\"Остаток от деления: {a} % {b} = Error!\", \"Делить на ноль нельзя!\")"
   ]
  },
  {
   "cell_type": "markdown",
   "id": "75e3d053",
   "metadata": {},
   "source": [
    "### Строки"
   ]
  },
  {
   "cell_type": "code",
   "execution_count": null,
   "id": "ac80faf0",
   "metadata": {},
   "outputs": [
    {
     "name": "stdout",
     "output_type": "stream",
     "text": [
      "Привет, Иван Петров!\n"
     ]
    }
   ],
   "source": [
    "\n",
    "first_name = \"Иван\"\n",
    "last_name = \"Петров\"\n",
    "\n",
    "print(\"Привет, \" + first_name + \" \" + last_name + \"!\")"
   ]
  },
  {
   "cell_type": "markdown",
   "id": "cceb0681",
   "metadata": {},
   "source": [
    "## Списки"
   ]
  },
  {
   "cell_type": "code",
   "execution_count": null,
   "id": "bca58824",
   "metadata": {},
   "outputs": [
    {
     "name": "stdout",
     "output_type": "stream",
     "text": [
      "Первый фрукт: яблоко\n",
      "Все фрукты: ['яблоко', 'банан', 'киви']\n"
     ]
    }
   ],
   "source": [
    "\n",
    "fruits = [\"яблоко\", \"банан\", \"киви\"]\n",
    "print(\"Первый фрукт:\", fruits[0])\n",
    "print(\"Все фрукты:\", fruits)\n"
   ]
  },
  {
   "cell_type": "markdown",
   "id": "9b90cdbb",
   "metadata": {},
   "source": [
    "## Условия (`if`)"
   ]
  },
  {
   "cell_type": "code",
   "execution_count": null,
   "id": "63e5825f",
   "metadata": {},
   "outputs": [
    {
     "name": "stdout",
     "output_type": "stream",
     "text": [
      "Ты еще школьник :)\n"
     ]
    }
   ],
   "source": [
    "\n",
    "age = int(input(\"Сколько тебе лет? \"))\n",
    "\n",
    "if age >= 18:\n",
    "    print(\"Ты уже взрослый!\")\n",
    "else:\n",
    "    print(\"Ты еще школьник :)\")"
   ]
  },
  {
   "cell_type": "markdown",
   "id": "831ed61a",
   "metadata": {},
   "source": [
    "## Циклы"
   ]
  },
  {
   "cell_type": "markdown",
   "id": "f5bbde76",
   "metadata": {},
   "source": [
    "### Цикл for"
   ]
  },
  {
   "cell_type": "code",
   "execution_count": null,
   "id": "a760ba95",
   "metadata": {},
   "outputs": [
    {
     "name": "stdout",
     "output_type": "stream",
     "text": [
      "Это повтор номер 1\n",
      "Это повтор номер 2\n",
      "Это повтор номер 3\n",
      "Это повтор номер 4\n",
      "Это повтор номер 5\n"
     ]
    }
   ],
   "source": [
    "\n",
    "for i in range(5):\n",
    "    print(\"Это повтор номер\", i+1)"
   ]
  },
  {
   "cell_type": "markdown",
   "id": "d8340490",
   "metadata": {},
   "source": [
    "### Цикл while"
   ]
  },
  {
   "cell_type": "code",
   "execution_count": null,
   "id": "c67b802e",
   "metadata": {},
   "outputs": [
    {
     "name": "stdout",
     "output_type": "stream",
     "text": [
      "Счётчик = 0\n",
      "Счётчик = 1\n",
      "Счётчик = 2\n"
     ]
    }
   ],
   "source": [
    "\n",
    "count = 0\n",
    "while count < 3:\n",
    "    print(\"Счётчик =\", count)\n",
    "    count += 1"
   ]
  },
  {
   "cell_type": "markdown",
   "id": "84757a09",
   "metadata": {},
   "source": [
    "## Мини-проект 2: Таблица умножения"
   ]
  },
  {
   "cell_type": "code",
   "execution_count": null,
   "id": "141108e5",
   "metadata": {},
   "outputs": [
    {
     "name": "stdout",
     "output_type": "stream",
     "text": [
      "1 x 1 = 1\n",
      "1 x 2 = 2\n",
      "1 x 3 = 3\n",
      "1 x 4 = 4\n",
      "1 x 5 = 5\n",
      "1 x 6 = 6\n",
      "1 x 7 = 7\n",
      "1 x 8 = 8\n",
      "1 x 9 = 9\n",
      "1 x 10 = 10\n"
     ]
    }
   ],
   "source": [
    "\n",
    "num = int(input(\"Введите число: \"))\n",
    "\n",
    "for i in range(1, 11):\n",
    "    print(f\"{num} x {i} = {num*i}\")\n"
   ]
  },
  {
   "cell_type": "code",
   "execution_count": null,
   "id": "d9f6ca06",
   "metadata": {},
   "outputs": [
    {
     "name": "stdout",
     "output_type": "stream",
     "text": [
      "1  2  3  4  5  6  7  8  9  10  \n",
      "2  4  6  8  10  12  14  16  18  20  \n",
      "3  6  9  12  15  18  21  24  27  30  \n",
      "4  8  12  16  20  24  28  32  36  40  \n",
      "5  10  15  20  25  30  35  40  45  50  \n",
      "6  12  18  24  30  36  42  48  54  60  \n",
      "7  14  21  28  35  42  49  56  63  70  \n",
      "8  16  24  32  40  48  56  64  72  80  \n",
      "9  18  27  36  45  54  63  72  81  90  \n",
      "10  20  30  40  50  60  70  80  90  100  \n"
     ]
    }
   ],
   "source": [
    "for i in range(1, 11):\n",
    "    for j in range(1, 11):\n",
    "        print(i * j, \" \", end=\"\")\n",
    "    print()"
   ]
  },
  {
   "cell_type": "code",
   "execution_count": null,
   "id": "5eb0a38e",
   "metadata": {},
   "outputs": [
    {
     "name": "stdout",
     "output_type": "stream",
     "text": [
      "   1   2   3   4   5   6   7   8   9\n",
      "   2   4   6   8  10  12  14  16  18\n",
      "   3   6   9  12  15  18  21  24  27\n",
      "   4   8  12  16  20  24  28  32  36\n",
      "   5  10  15  20  25  30  35  40  45\n",
      "   6  12  18  24  30  36  42  48  54\n",
      "   7  14  21  28  35  42  49  56  63\n",
      "   8  16  24  32  40  48  56  64  72\n",
      "   9  18  27  36  45  54  63  72  81\n"
     ]
    }
   ],
   "source": [
    "for i in range(1, 10):\n",
    "    for j in range(1, 10):\n",
    "        print(\"%4d\" % (i * j), end=\"\")\n",
    "    print()"
   ]
  },
  {
   "cell_type": "code",
   "execution_count": null,
   "id": "b3088dbc",
   "metadata": {},
   "outputs": [
    {
     "name": "stdout",
     "output_type": "stream",
     "text": [
      "1 x 1 = 1\t1 x 2 = 2\t1 x 3 = 3\t1 x 4 = 4\t1 x 5 = 5\t1 x 6 = 6\t1 x 7 = 7\t1 x 8 = 8\t1 x 9 = 9\t1 x 10 = 10\t\n",
      "2 x 1 = 2\t2 x 2 = 4\t2 x 3 = 6\t2 x 4 = 8\t2 x 5 = 10\t2 x 6 = 12\t2 x 7 = 14\t2 x 8 = 16\t2 x 9 = 18\t2 x 10 = 20\t\n",
      "3 x 1 = 3\t3 x 2 = 6\t3 x 3 = 9\t3 x 4 = 12\t3 x 5 = 15\t3 x 6 = 18\t3 x 7 = 21\t3 x 8 = 24\t3 x 9 = 27\t3 x 10 = 30\t\n",
      "4 x 1 = 4\t4 x 2 = 8\t4 x 3 = 12\t4 x 4 = 16\t4 x 5 = 20\t4 x 6 = 24\t4 x 7 = 28\t4 x 8 = 32\t4 x 9 = 36\t4 x 10 = 40\t\n",
      "5 x 1 = 5\t5 x 2 = 10\t5 x 3 = 15\t5 x 4 = 20\t5 x 5 = 25\t5 x 6 = 30\t5 x 7 = 35\t5 x 8 = 40\t5 x 9 = 45\t5 x 10 = 50\t\n",
      "6 x 1 = 6\t6 x 2 = 12\t6 x 3 = 18\t6 x 4 = 24\t6 x 5 = 30\t6 x 6 = 36\t6 x 7 = 42\t6 x 8 = 48\t6 x 9 = 54\t6 x 10 = 60\t\n",
      "7 x 1 = 7\t7 x 2 = 14\t7 x 3 = 21\t7 x 4 = 28\t7 x 5 = 35\t7 x 6 = 42\t7 x 7 = 49\t7 x 8 = 56\t7 x 9 = 63\t7 x 10 = 70\t\n",
      "8 x 1 = 8\t8 x 2 = 16\t8 x 3 = 24\t8 x 4 = 32\t8 x 5 = 40\t8 x 6 = 48\t8 x 7 = 56\t8 x 8 = 64\t8 x 9 = 72\t8 x 10 = 80\t\n",
      "9 x 1 = 9\t9 x 2 = 18\t9 x 3 = 27\t9 x 4 = 36\t9 x 5 = 45\t9 x 6 = 54\t9 x 7 = 63\t9 x 8 = 72\t9 x 9 = 81\t9 x 10 = 90\t\n",
      "10 x 1 = 10\t10 x 2 = 20\t10 x 3 = 30\t10 x 4 = 40\t10 x 5 = 50\t10 x 6 = 60\t10 x 7 = 70\t10 x 8 = 80\t10 x 9 = 90\t10 x 10 = 100\t\n"
     ]
    }
   ],
   "source": [
    "for i in range(1, 11):\n",
    "    for j in range(1, 11):\n",
    "        print(f\"{i} x {j} = {i * j}\\t\", end=\"\")\n",
    "    print()"
   ]
  },
  {
   "cell_type": "markdown",
   "id": "e2ab5461",
   "metadata": {},
   "source": [
    "## Мини-проект 3: Список покупок"
   ]
  },
  {
   "cell_type": "code",
   "execution_count": null,
   "id": "48abf529",
   "metadata": {},
   "outputs": [
    {
     "name": "stdout",
     "output_type": "stream",
     "text": [
      "Добавь продукт в список: яблоки\n",
      "Добавь продукт в список: груши\n",
      "Добавь продукт в список: бананы\n",
      "Твой список покупок: ['яблоки', 'груши', 'бананы']\n"
     ]
    }
   ],
   "source": [
    "\n",
    "shopping_list = []\n",
    "\n",
    "for i in range(3):\n",
    "    item = input(\"Добавь продукт в список: \")\n",
    "    shopping_list.append(item)\n",
    "\n",
    "print(\"Твой список покупок:\", shopping_list)"
   ]
  },
  {
   "cell_type": "markdown",
   "id": "da999bde",
   "metadata": {},
   "source": [
    "\n",
    "# Домашнее задание\n",
    "\n",
    "1. Напишите калькулятор для квадратных уравнений. Обязательные условия:  \n",
    "   - на вход подается 3 числа(коэффициенты a, b, c).  \n",
    "   - программа выводит квадратное уравнение с полученными коэффициентами.\n",
    "   - протестируйте программу на разных значениях входных данных.\n",
    "   - у программы красивый и понятный вывод(грамотно оформлены функции `print`).\n",
    "\n",
    "2. Напишите программу, которая считает сумму чисел от 1 до N. Обязательные условия: \n",
    "   - программа получает на вход число N.\n",
    "   - у программы красивый и понятный вывод(грамотно оформлены функции `print`).\n",
    "\n",
    "3. Задача:\n",
    "\n",
    "   В высотном доме 5 подъездов по 20 квартир каждый. На каждом этаже 4 квартиры. Нумерация квартир идёт подряд, снизу вверх:\n",
    "      - на 1м этаже, 1го подъезда находятся квартиры 1, 2, 3, 4.\n",
    "      - на 2м этаже, 1го подъезда находятся квартиры 5, 6, 7, 8 и т.д.\n",
    "\n",
    "      Напишите программу, которая получает номер квартиры и выводит на экран номер подъезда и этажа.\n",
    "      Протестируйте программу на разных значениях входных данных.\n",
    "\n",
    "4. Зарегистрируйтесь на [GitHub](https://github.com/), создайте репозиторий и сохраните туда свой ноутбук.  Укажите в [таблице](https://docs.google.com/spreadsheets/d/1a1h71raeU-3O0DM2DwVADAMlWlimWq9gzgGY1_oESXw/edit?usp=sharing) ссылку на ваш репозиторий и ссылку на ноутбук(.ipynb).\n"
   ]
  },
  {
   "cell_type": "markdown",
   "id": "6665a03c",
   "metadata": {},
   "source": [
    "---"
   ]
  },
  {
   "cell_type": "markdown",
   "id": "252eaf94",
   "metadata": {},
   "source": [
    "## 1"
   ]
  },
  {
   "cell_type": "code",
   "execution_count": 6,
   "id": "d517f0a6",
   "metadata": {},
   "outputs": [
    {
     "name": "stdout",
     "output_type": "stream",
     "text": [
      "Калькулятор квадратных уравнений\n",
      "1x^2 + -3x + -10 = 0\n",
      "Дискриминант: 49\n",
      "Первый корень уравнения = -2.\n",
      "Второй корень уравнения = 5.\n"
     ]
    }
   ],
   "source": [
    "print(\"Калькулятор квадратных уравнений\")\n",
    "\n",
    "a = int(input(\"Введите a:\"))\n",
    "b = int(input(\"Введите b:\"))\n",
    "c = int(input(\"Введите c:\"))\n",
    "\n",
    "print(str(a) + \"x^2 + \" + str(b) + \"x + \" + str(c) + \" = 0\")\n",
    "\n",
    "d = b**2 - 4*a*c\n",
    "print(\"Дискриминант:\", d)\n",
    "\n",
    "if d > 0:\n",
    "    x1 = (-b - (b**2 - 4*a*c)**0.5) / (2*a)\n",
    "    x2 = (-b + d**0.5) / (2*a)\n",
    "\n",
    "    print(\"Первый корень уравнения =\", int(x1), end=\".\\n\")\n",
    "    print(\"Второй корень уравнения =\", int(x2), end=\".\\n\")\n",
    "elif d == 0: \n",
    "    x = -b / 2 * a\n",
    "    print(\"У уравнения один действительный корень =\", int(x), end=\".\\n\")\n",
    "elif d < 0:\n",
    "    print(\"У уравнения нет действительных корней.\")"
   ]
  }
 ],
 "metadata": {
  "kernelspec": {
   "display_name": "Python 3",
   "language": "python",
   "name": "python3"
  },
  "language_info": {
   "codemirror_mode": {
    "name": "ipython",
    "version": 3
   },
   "file_extension": ".py",
   "mimetype": "text/x-python",
   "name": "python",
   "nbconvert_exporter": "python",
   "pygments_lexer": "ipython3",
   "version": "3.10.5"
  }
 },
 "nbformat": 4,
 "nbformat_minor": 5
}
